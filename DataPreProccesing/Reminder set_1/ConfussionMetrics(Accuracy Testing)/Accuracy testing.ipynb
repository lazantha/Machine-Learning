{
 "cells": [
  {
   "cell_type": "code",
   "execution_count": 1,
   "id": "c52e62ff",
   "metadata": {},
   "outputs": [],
   "source": [
    "realValues=[1,1,0,0,0,1]\n",
    "predicted=[0,1,1,0,0,0]\n"
   ]
  },
  {
   "cell_type": "code",
   "execution_count": 7,
   "id": "1a1b56fd",
   "metadata": {},
   "outputs": [],
   "source": [
    "from sklearn.metrics import accuracy_score\n",
    "accu=accuracy_score(realValues,predicted)"
   ]
  },
  {
   "cell_type": "code",
   "execution_count": 8,
   "id": "1e19da80",
   "metadata": {},
   "outputs": [
    {
     "data": {
      "text/plain": [
       "0.5"
      ]
     },
     "execution_count": 8,
     "metadata": {},
     "output_type": "execute_result"
    }
   ],
   "source": [
    "accu"
   ]
  },
  {
   "cell_type": "code",
   "execution_count": 13,
   "id": "e024680c",
   "metadata": {},
   "outputs": [],
   "source": [
    "from sklearn.metrics import confusion_matrix\n",
    "accu=confusion_matrix(realValues,predicted)"
   ]
  },
  {
   "cell_type": "code",
   "execution_count": 14,
   "id": "44218048",
   "metadata": {},
   "outputs": [
    {
     "data": {
      "text/plain": [
       "array([[2, 1],\n",
       "       [2, 1]], dtype=int64)"
      ]
     },
     "execution_count": 14,
     "metadata": {},
     "output_type": "execute_result"
    }
   ],
   "source": [
    "accu"
   ]
  },
  {
   "cell_type": "code",
   "execution_count": 24,
   "id": "3bf959b7",
   "metadata": {},
   "outputs": [],
   "source": [
    "import pandas as pd"
   ]
  },
  {
   "cell_type": "code",
   "execution_count": 25,
   "id": "4876aecd",
   "metadata": {},
   "outputs": [],
   "source": [
    "from sklearn.metrics import classification_report"
   ]
  },
  {
   "cell_type": "code",
   "execution_count": 27,
   "id": "b56cd6ae",
   "metadata": {},
   "outputs": [],
   "source": [
    "report=classification_report(realValues,predicted)"
   ]
  },
  {
   "cell_type": "code",
   "execution_count": 31,
   "id": "e8510b06",
   "metadata": {},
   "outputs": [
    {
     "data": {
      "text/plain": [
       "0                  precision    recall  f1-score   ...\n",
       "dtype: object"
      ]
     },
     "execution_count": 31,
     "metadata": {},
     "output_type": "execute_result"
    }
   ],
   "source": []
  },
  {
   "cell_type": "code",
   "execution_count": null,
   "id": "62ff2e3d",
   "metadata": {},
   "outputs": [],
   "source": []
  }
 ],
 "metadata": {
  "kernelspec": {
   "display_name": "Python 3 (ipykernel)",
   "language": "python",
   "name": "python3"
  },
  "language_info": {
   "codemirror_mode": {
    "name": "ipython",
    "version": 3
   },
   "file_extension": ".py",
   "mimetype": "text/x-python",
   "name": "python",
   "nbconvert_exporter": "python",
   "pygments_lexer": "ipython3",
   "version": "3.9.7"
  }
 },
 "nbformat": 4,
 "nbformat_minor": 5
}
